{
 "cells": [
  {
   "cell_type": "code",
   "execution_count": 5,
   "id": "81a35368",
   "metadata": {},
   "outputs": [],
   "source": [
    "num=9740082065\n",
    "name=\"Varun Bogulla\""
   ]
  },
  {
   "cell_type": "code",
   "execution_count": 7,
   "id": "adf0a261",
   "metadata": {},
   "outputs": [
    {
     "name": "stdout",
     "output_type": "stream",
     "text": [
      "Iam Varun Bogulla And My Number is 9740082065 and Iam Varun Bogulla\n"
     ]
    }
   ],
   "source": [
    "print(\"Iam {one} And My Number is {two} and Iam {one}\".format(one=name,two=num))"
   ]
  },
  {
   "cell_type": "code",
   "execution_count": 8,
   "id": "c500b05c",
   "metadata": {},
   "outputs": [],
   "source": [
    "a=\"varun Bogulla\""
   ]
  },
  {
   "cell_type": "code",
   "execution_count": 20,
   "id": "8cd1232a",
   "metadata": {},
   "outputs": [
    {
     "data": {
      "text/plain": [
       "'allugoB nurav'"
      ]
     },
     "execution_count": 20,
     "metadata": {},
     "output_type": "execute_result"
    }
   ],
   "source": [
    "a[::-1]"
   ]
  },
  {
   "cell_type": "code",
   "execution_count": null,
   "id": "e08c50cc",
   "metadata": {},
   "outputs": [],
   "source": []
  },
  {
   "cell_type": "code",
   "execution_count": null,
   "id": "5c224ba3",
   "metadata": {},
   "outputs": [],
   "source": [
    "\n"
   ]
  }
 ],
 "metadata": {
  "kernelspec": {
   "display_name": "Python 3 (ipykernel)",
   "language": "python",
   "name": "python3"
  },
  "language_info": {
   "codemirror_mode": {
    "name": "ipython",
    "version": 3
   },
   "file_extension": ".py",
   "mimetype": "text/x-python",
   "name": "python",
   "nbconvert_exporter": "python",
   "pygments_lexer": "ipython3",
   "version": "3.10.9"
  }
 },
 "nbformat": 4,
 "nbformat_minor": 5
}
